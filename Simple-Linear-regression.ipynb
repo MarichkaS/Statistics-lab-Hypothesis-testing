{
 "cells": [
  {
   "cell_type": "markdown",
   "metadata": {},
   "source": [
    "                                                                                        Created by Maria Dobko"
   ]
  },
  {
   "cell_type": "markdown",
   "metadata": {},
   "source": [
    "# Part II: Simple linear regression"
   ]
  },
  {
   "cell_type": "code",
   "execution_count": 2,
   "metadata": {
    "collapsed": false
   },
   "outputs": [],
   "source": [
    "n <- 5   #my id-number\n",
    "\n",
    "x <- c()\n",
    "y <- c()\n",
    "i = 50  # number of X  (Xi)\n",
    "iter = 1\n",
    "for (k in 2:50){\n",
    "    x[k-1] <- 10* (1+ cos(k*n))\n",
    "    y[k-1] <- sin(n+cos(k^2)) + cos(n+sin(k^2)/k)*(1+sin(k^2)/k)*x[k-1]\n",
    "    \n",
    "}"
   ]
  },
  {
   "cell_type": "markdown",
   "metadata": {},
   "source": [
    "Generated data doesn't contain outliers, however, if we generate from k=1:50, then the first element will be an outlier, as y will be equal to 20, while other y are less than 5."
   ]
  },
  {
   "cell_type": "code",
   "execution_count": 3,
   "metadata": {
    "collapsed": false
   },
   "outputs": [
    {
     "data": {
      "text/html": [
       "49"
      ],
      "text/plain": [
       "[1] 49"
      ]
     },
     "metadata": {},
     "output_type": "execute_result"
    },
    {
     "data": {
      "text/html": [
       "49"
      ],
      "text/plain": [
       "[1] 49"
      ]
     },
     "metadata": {},
     "output_type": "execute_result"
    },
    {
     "data": {
      "text/html": [
       "<ol class=list-inline>\n",
       "\t<li>1.60928470923548</li>\n",
       "\t<li>2.40312087141179</li>\n",
       "\t<li>14.0808206181339</li>\n",
       "\t<li>19.9120281186347</li>\n",
       "\t<li>11.5425144988758</li>\n",
       "\t<li>0.963077949084933</li>\n",
       "\t<li>3.33061938347738</li>\n",
       "\t<li>15.2532198881773</li>\n",
       "\t<li>19.6496602849211</li>\n",
       "\t<li>10.2212675626196</li>\n",
       "\t<li>0.475870195848437</li>\n",
       "\t<li>4.37546148761828</li>\n",
       "\t<li>16.333192030863</li>\n",
       "\t<li>19.2175126972475</li>\n",
       "\t<li>8.89612756160953</li>\n",
       "\t<li>0.156233566059581</li>\n",
       "\t<li>5.5192638387083</li>\n",
       "\t<li>17.3017356099482</li>\n",
       "\t<li>18.6231887228768</li>\n",
       "\t<li>7.59040950763799</li>\n",
       "\t<li>0.00979186685352018</li>\n",
       "\t<li>6.74190194780036</li>\n",
       "\t<li>18.1418097052656</li>\n",
       "\t<li>17.8771451214423</li>\n",
       "\t<li>6.32708669545304</li>\n",
       "\t<li>0.0391216485881507</li>\n",
       "\t<li>8.02186425995732</li>\n",
       "\t<li>18.838633737085</li>\n",
       "\t<li>16.9925080647838</li>\n",
       "\t<li>5.12838650196659</li>\n",
       "\t<li>0.243706872047627</li>\n",
       "\t<li>9.33663063664376</li>\n",
       "\t<li>19.3799475211944</li>\n",
       "\t<li>15.984842190141</li>\n",
       "\t<li>4.01539930942142</li>\n",
       "\t<li>0.619947987830497</li>\n",
       "\t<li>10.6630685835171</li>\n",
       "\t<li>19.7562269791944</li>\n",
       "\t<li>14.8718767500701</li>\n",
       "\t<li>3.00770743327026</li>\n",
       "\t<li>1.16122526817628</li>\n",
       "\t<li>11.9778402522372</li>\n",
       "\t<li>19.9608517087172</li>\n",
       "\t<li>13.6731936773025</li>\n",
       "\t<li>2.12304058354942</li>\n",
       "\t<li>1.85801527694653</li>\n",
       "\t<li>13.2578130553515</li>\n",
       "\t<li>19.9902214652767</li>\n",
       "\t<li>12.4098830528526</li>\n",
       "</ol>\n"
      ],
      "text/plain": [
       " [1]  1.609284709  2.403120871 14.080820618 19.912028119 11.542514499\n",
       " [6]  0.963077949  3.330619383 15.253219888 19.649660285 10.221267563\n",
       "[11]  0.475870196  4.375461488 16.333192031 19.217512697  8.896127562\n",
       "[16]  0.156233566  5.519263839 17.301735610 18.623188723  7.590409508\n",
       "[21]  0.009791867  6.741901948 18.141809705 17.877145121  6.327086695\n",
       "[26]  0.039121649  8.021864260 18.838633737 16.992508065  5.128386502\n",
       "[31]  0.243706872  9.336630637 19.379947521 15.984842190  4.015399309\n",
       "[36]  0.619947988 10.663068584 19.756226979 14.871876750  3.007707433\n",
       "[41]  1.161225268 11.977840252 19.960851709 13.673193677  2.123040584\n",
       "[46]  1.858015277 13.257813055 19.990221465 12.409883053"
      ]
     },
     "metadata": {},
     "output_type": "execute_result"
    },
    {
     "data": {
      "text/html": [
       "<ol class=list-inline>\n",
       "\t<li>-1.02445009003887</li>\n",
       "\t<li>0.31510462304948</li>\n",
       "\t<li>2.01220079912945</li>\n",
       "\t<li>4.7170076052524</li>\n",
       "\t<li>0.188229313969147</li>\n",
       "\t<li>-0.70650843206064</li>\n",
       "\t<li>0.677194195474943</li>\n",
       "\t<li>2.57770854903684</li>\n",
       "\t<li>3.97086934192903</li>\n",
       "\t<li>3.14749973225349</li>\n",
       "\t<li>-0.289025955284793</li>\n",
       "\t<li>0.531244568352764</li>\n",
       "\t<li>5.24570413266006</li>\n",
       "\t<li>3.23922851659794</li>\n",
       "\t<li>0.892687623790678</li>\n",
       "\t<li>-0.235738209743676</li>\n",
       "\t<li>0.604223720747128</li>\n",
       "\t<li>4.44479542693406</li>\n",
       "\t<li>3.35422444822103</li>\n",
       "\t<li>1.79664008804315</li>\n",
       "\t<li>-0.294626811257721</li>\n",
       "\t<li>1.45943192433187</li>\n",
       "\t<li>3.34993304369373</li>\n",
       "\t<li>4.46127755145129</li>\n",
       "\t<li>0.790149267886996</li>\n",
       "\t<li>-0.278883312533609</li>\n",
       "\t<li>1.03668929825965</li>\n",
       "\t<li>4.05749589573613</li>\n",
       "\t<li>4.59953277906918</li>\n",
       "\t<li>1.05910017271133</li>\n",
       "\t<li>-0.223900446143947</li>\n",
       "\t<li>1.98181074524359</li>\n",
       "\t<li>5.13769767627216</li>\n",
       "\t<li>4.10762401641126</li>\n",
       "\t<li>0.298395194118196</li>\n",
       "\t<li>-0.352880057832748</li>\n",
       "\t<li>1.95683945232891</li>\n",
       "\t<li>5.5095229047704</li>\n",
       "\t<li>2.90123888277267</li>\n",
       "\t<li>0.0544594785527809</li>\n",
       "\t<li>-0.664544903775659</li>\n",
       "\t<li>2.75042190017129</li>\n",
       "\t<li>5.52137601703027</li>\n",
       "\t<li>3.251219628667</li>\n",
       "\t<li>-0.365005473021974</li>\n",
       "\t<li>-0.315271337561772</li>\n",
       "\t<li>2.44545368954013</li>\n",
       "\t<li>5.47848043419243</li>\n",
       "\t<li>2.8216397810021</li>\n",
       "</ol>\n"
      ],
      "text/plain": [
       " [1] -1.02445009  0.31510462  2.01220080  4.71700761  0.18822931 -0.70650843\n",
       " [7]  0.67719420  2.57770855  3.97086934  3.14749973 -0.28902596  0.53124457\n",
       "[13]  5.24570413  3.23922852  0.89268762 -0.23573821  0.60422372  4.44479543\n",
       "[19]  3.35422445  1.79664009 -0.29462681  1.45943192  3.34993304  4.46127755\n",
       "[25]  0.79014927 -0.27888331  1.03668930  4.05749590  4.59953278  1.05910017\n",
       "[31] -0.22390045  1.98181075  5.13769768  4.10762402  0.29839519 -0.35288006\n",
       "[37]  1.95683945  5.50952290  2.90123888  0.05445948 -0.66454490  2.75042190\n",
       "[43]  5.52137602  3.25121963 -0.36500547 -0.31527134  2.44545369  5.47848043\n",
       "[49]  2.82163978"
      ]
     },
     "metadata": {},
     "output_type": "execute_result"
    }
   ],
   "source": [
    "f = y ~ x\n",
    "linear_model = lm(formula=f)\n",
    "length(x)\n",
    "length(y)\n",
    "x\n",
    "y"
   ]
  },
  {
   "cell_type": "code",
   "execution_count": 4,
   "metadata": {
    "collapsed": false,
    "scrolled": false
   },
   "outputs": [
    {
     "data": {
      "image/png": "[encoded data removed]",
      "text/plain": [
       "Plot with title “Plot Regression”"
      ]
     },
     "metadata": {},
     "output_type": "display_data"
    }
   ],
   "source": [
    "plot(x,y,col = \"blue\",main = \"Plot Regression\",\n",
    "abline(lm(y~x)),pch = 15)"
   ]
  },
  {
   "cell_type": "code",
   "execution_count": 5,
   "metadata": {
    "collapsed": false
   },
   "outputs": [
    {
     "data": {
      "text/html": [
       "<table>\n",
       "<thead><tr><th></th><th scope=col>Estimate</th><th scope=col>Std. Error</th><th scope=col>t value</th><th scope=col>Pr(&gt;|t|)</th></tr></thead>\n",
       "<tbody>\n",
       "\t<tr><th scope=row>(Intercept)</th><td>-0.6670920  </td><td>0.16755932  </td><td>-3.981229   </td><td>2.363509e-04</td></tr>\n",
       "\t<tr><th scope=row>x</th><td> 0.2667698  </td><td>0.01368526  </td><td>19.493231   </td><td>3.693111e-24</td></tr>\n",
       "</tbody>\n",
       "</table>\n"
      ],
      "text/plain": [
       "            Estimate   Std. Error t value   Pr(>|t|)    \n",
       "(Intercept) -0.6670920 0.16755932 -3.981229 2.363509e-04\n",
       "x            0.2667698 0.01368526 19.493231 3.693111e-24"
      ]
     },
     "metadata": {},
     "output_type": "execute_result"
    }
   ],
   "source": [
    "#linear_model.coefficients\n",
    "summary(linear_model)$coefficients"
   ]
  },
  {
   "cell_type": "code",
   "execution_count": 6,
   "metadata": {
    "collapsed": false
   },
   "outputs": [
    {
     "data": {
      "text/html": [
       "<table>\n",
       "<thead><tr><th></th><th scope=col>Df</th><th scope=col>Sum Sq</th><th scope=col>Mean Sq</th><th scope=col>F value</th><th scope=col>Pr(&gt;F)</th></tr></thead>\n",
       "<tbody>\n",
       "\t<tr><th scope=row>x</th><td> 1          </td><td>174.23725   </td><td>174.2372511 </td><td>379.9861    </td><td>3.693111e-24</td></tr>\n",
       "\t<tr><th scope=row>Residuals</th><td>47          </td><td> 21.55119   </td><td>  0.4585359 </td><td>      NA    </td><td>          NA</td></tr>\n",
       "</tbody>\n",
       "</table>\n"
      ],
      "text/plain": [
       "          Df Sum Sq    Mean Sq     F value  Pr(>F)      \n",
       "x          1 174.23725 174.2372511 379.9861 3.693111e-24\n",
       "Residuals 47  21.55119   0.4585359       NA           NA"
      ]
     },
     "metadata": {},
     "output_type": "execute_result"
    }
   ],
   "source": [
    "anova(linear_model)"
   ]
  },
  {
   "cell_type": "code",
   "execution_count": 7,
   "metadata": {
    "collapsed": false
   },
   "outputs": [
    {
     "data": {
      "text/plain": [
       "\n",
       "Call:\n",
       "lm(formula = f)\n",
       "\n",
       "Residuals:\n",
       "    Min      1Q  Median      3Q     Max \n",
       "-2.2239 -0.3072  0.1488  0.3782  1.5556 \n",
       "\n",
       "Coefficients:\n",
       "            Estimate Std. Error t value Pr(>|t|)    \n",
       "(Intercept) -0.66709    0.16756  -3.981 0.000236 ***\n",
       "x            0.26677    0.01369  19.493  < 2e-16 ***\n",
       "---\n",
       "Signif. codes:  0 ‘***’ 0.001 ‘**’ 0.01 ‘*’ 0.05 ‘.’ 0.1 ‘ ’ 1\n",
       "\n",
       "Residual standard error: 0.6772 on 47 degrees of freedom\n",
       "Multiple R-squared:  0.8899,\tAdjusted R-squared:  0.8876 \n",
       "F-statistic:   380 on 1 and 47 DF,  p-value: < 2.2e-16\n"
      ]
     },
     "metadata": {},
     "output_type": "display_data"
    }
   ],
   "source": [
    "summary(linear_model)"
   ]
  },
  {
   "cell_type": "markdown",
   "metadata": {},
   "source": [
    "### a) Find estimate â, b̂, σ̂ 2 of the parameters a, b and σ^2"
   ]
  },
  {
   "cell_type": "code",
   "execution_count": 8,
   "metadata": {
    "collapsed": false
   },
   "outputs": [
    {
     "data": {
      "text/html": [
       "9.79728594511852"
      ],
      "text/plain": [
       "[1] 9.797286"
      ]
     },
     "metadata": {},
     "output_type": "execute_result"
    },
    {
     "data": {
      "text/html": [
       "1.95987034780799"
      ],
      "text/plain": [
       "[1] 1.95987"
      ]
     },
     "metadata": {},
     "output_type": "execute_result"
    }
   ],
   "source": [
    "x_bar = sum(x)/i\n",
    "y_bar = sum(y)/i\n",
    "x_bar\n",
    "y_bar"
   ]
  },
  {
   "cell_type": "code",
   "execution_count": 9,
   "metadata": {
    "collapsed": false
   },
   "outputs": [
    {
     "name": "stdout",
     "output_type": "stream",
     "text": [
      "[1] 0.2667165\n"
     ]
    }
   ],
   "source": [
    "# ESTIMATE FOR b\n",
    "estim_b = sum((x-x_bar)*(y-y_bar))/sum((x-x_bar)^2)\n",
    "print(estim_b)\n",
    "# SAME IN THE TABLE OF COEFFICIENTS"
   ]
  },
  {
   "cell_type": "code",
   "execution_count": 10,
   "metadata": {
    "collapsed": false
   },
   "outputs": [
    {
     "name": "stdout",
     "output_type": "stream",
     "text": [
      "[1] -0.6532275\n"
     ]
    }
   ],
   "source": [
    "#ESTIMATE FOR a\n",
    "estim_a = y_bar - estim_b*x_bar\n",
    "print(estim_a)"
   ]
  },
  {
   "cell_type": "code",
   "execution_count": 11,
   "metadata": {
    "collapsed": false
   },
   "outputs": [
    {
     "name": "stdout",
     "output_type": "stream",
     "text": [
      "[1] 2450.275\n",
      "[1] 49.0055\n"
     ]
    }
   ],
   "source": [
    "#ESTIMATE OF VARIANCE\n",
    "variance = sum((x-x_bar)^2)\n",
    "estim_var = variance/i\n",
    "print(variance)\n",
    "print(estim_var)"
   ]
  },
  {
   "cell_type": "markdown",
   "metadata": {},
   "source": [
    "### b) Test the hypothesis H 0 : b = 0 vs the general alternative"
   ]
  },
  {
   "cell_type": "markdown",
   "metadata": {},
   "source": [
    "b - This is the SLOPE of the regression line. Thus this is the amount that the Y variable (dependent) will change for each 1 unit change in the X variable\n",
    "\n",
    "Critical value: a t-value based on n-2 degrees of freedom. Also divide alpha by 2 because it is a 2-tailed test. In this case n = 50  thus n-2 = 48 . With alpha = .05 we have alpha/2 = .025 and then t =  (from t-table).\n",
    "\n",
    "Calculated Value: t = b/s(b) ,  s(b) is the standard error of b and is given in the problem\n",
    "\n",
    "Compare: t-calc < t-crit and thus accept H0."
   ]
  },
  {
   "cell_type": "code",
   "execution_count": 13,
   "metadata": {
    "collapsed": false
   },
   "outputs": [
    {
     "data": {
      "text/plain": [
       "\n",
       "\tWelch Two Sample t-test\n",
       "\n",
       "data:  x and y\n",
       "t = 7.5427, df = 55.628, p-value = 4.56e-10\n",
       "alternative hypothesis: true difference in means is not equal to 0\n",
       "95 percent confidence interval:\n",
       "  5.873053 10.121673\n",
       "sample estimates:\n",
       "mean of x mean of y \n",
       " 9.997231  1.999868 \n"
      ]
     },
     "metadata": {},
     "output_type": "display_data"
    }
   ],
   "source": [
    "ttest <- t.test(x,y, mu = 0, paired = FALSE, var.equal = FALSE, conf.level = 0.95)\n",
    "ttest"
   ]
  },
  {
   "cell_type": "markdown",
   "metadata": {},
   "source": [
    "### c) Find the determination coefficient r^2 and comment on whether the linear model is adequate"
   ]
  },
  {
   "cell_type": "code",
   "execution_count": 14,
   "metadata": {
    "collapsed": false
   },
   "outputs": [
    {
     "data": {
      "text/html": [
       "'R-square is: 0.889926148445525 , or : 89 percents'"
      ],
      "text/plain": [
       "[1] \"R-square is: 0.889926148445525 , or : 89 percents\""
      ]
     },
     "metadata": {},
     "output_type": "execute_result"
    }
   ],
   "source": [
    "r_sq <- summary(linear_model)$r.squared \n",
    "r_perc <- r_sq*100\n",
    "sprintf(\"R-square is: %s , or : %s percents\", r_sq, ceiling(r_perc))"
   ]
  },
  {
   "cell_type": "markdown",
   "metadata": {},
   "source": [
    "R-squared = Explained variation / Total variation\n",
    "\n",
    "R-squared is always between 0 and 100%:\n",
    "\n",
    "0% indicates that the model explains none of the variability of the response data around its mean.\n",
    "\n",
    "100% indicates that the model explains all the variability of the response data around its mean.\n"
   ]
  },
  {
   "cell_type": "markdown",
   "metadata": {},
   "source": [
    "### d) Find the confidence interval for Y at x = 0 and x = 20"
   ]
  },
  {
   "cell_type": "code",
   "execution_count": 15,
   "metadata": {
    "collapsed": false
   },
   "outputs": [
    {
     "data": {
      "text/html": [
       "<table>\n",
       "<thead><tr><th></th><th scope=col>fit</th><th scope=col>lwr</th><th scope=col>upr</th></tr></thead>\n",
       "<tbody>\n",
       "\t<tr><th scope=row>49</th><td> 2.643491 </td><td> 2.4719802</td><td> 2.8150011</td></tr>\n",
       "\t<tr><th scope=row>50</th><td>-0.667092 </td><td>-0.9482443</td><td>-0.3859397</td></tr>\n",
       "</tbody>\n",
       "</table>\n"
      ],
      "text/plain": [
       "   fit       lwr        upr       \n",
       "49  2.643491  2.4719802  2.8150011\n",
       "50 -0.667092 -0.9482443 -0.3859397"
      ]
     },
     "metadata": {},
     "output_type": "execute_result"
    }
   ],
   "source": [
    "# FOR x=0 : cos(k*5)= -1  k~0.6\n",
    "x[50] <- 0\n",
    "y[50] <- sin(5+cos(1^2))\n",
    "\n",
    "pr <- predict(linear_model,0, level = 0.9, interval = \"confidence\") \n",
    "tail(pr, 2) # the first row in the given table is for x = 0"
   ]
  },
  {
   "cell_type": "code",
   "execution_count": 16,
   "metadata": {
    "collapsed": false
   },
   "outputs": [
    {
     "data": {
      "text/html": [
       "<table>\n",
       "<thead><tr><th></th><th scope=col>fit</th><th scope=col>lwr</th><th scope=col>upr</th></tr></thead>\n",
       "<tbody>\n",
       "\t<tr><th scope=row>51</th><td>4.668305</td><td>4.387049</td><td>4.949561</td></tr>\n",
       "</tbody>\n",
       "</table>\n"
      ],
      "text/plain": [
       "   fit      lwr      upr     \n",
       "51 4.668305 4.387049 4.949561"
      ]
     },
     "metadata": {},
     "output_type": "execute_result"
    }
   ],
   "source": [
    "#FOR x=20: 10(1+cos(5k)) = 20  cos(5k) = 1\n",
    "x[51] <- 20\n",
    "y[51] <- sin(n+cos(1^2)) + cos(n+sin(1^2)/1)*(1+sin(1^2)/1)*20\n",
    "\n",
    "pred <- predict(linear_model,0, level = 0.9, interval = \"confidence\") \n",
    "tail(pred, 1)"
   ]
  },
  {
   "cell_type": "code",
   "execution_count": null,
   "metadata": {
    "collapsed": true
   },
   "outputs": [],
   "source": [
    ""
   ]
  }
 ],
 "metadata": {
  "anaconda-cloud": {},
  "kernelspec": {
   "display_name": "R",
   "language": "R",
   "name": "ir"
  },
  "language_info": {
   "codemirror_mode": "r",
   "file_extension": ".r",
   "mimetype": "text/x-r-source",
   "name": "R",
   "pygments_lexer": "r",
   "version": "3.3.2"
  }
 },
 "nbformat": 4,
 "nbformat_minor": 0
}